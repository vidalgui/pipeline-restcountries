{
 "cells": [
  {
   "cell_type": "markdown",
   "metadata": {},
   "source": [
    "# Desafio complementar"
   ]
  },
  {
   "cell_type": "code",
   "execution_count": null,
   "metadata": {},
   "outputs": [
    {
     "ename": "",
     "evalue": "",
     "output_type": "error",
     "traceback": [
      "\u001b[1;31mRunning cells with 'venv' requires the ipykernel package.\n",
      "\u001b[1;31mRun the following command to install 'ipykernel' into the Python environment. \n",
      "\u001b[1;31mCommand: '\"c:/Users/Erik Vidal/OneDrive/Python/Projeto Final Coderhouse Python/venv/Scripts/python.exe\" -m pip install ipykernel -U --force-reinstall'"
     ]
    }
   ],
   "source": [
    "import pandas as pd \n",
    "import requests\n",
    "import numpy as np\n",
    "import seaborn as sns \n",
    "from plyer import notification\n",
    "from datetime import datetime"
   ]
  },
  {
   "cell_type": "markdown",
   "metadata": {},
   "source": [
    "## 00. Funções auxiliares"
   ]
  },
  {
   "cell_type": "code",
   "execution_count": 103,
   "metadata": {},
   "outputs": [],
   "source": [
    "def alerta(nivel, base, etapa):\n",
    "    \"\"\"\n",
    "    Retorna um alerta no desktop\n",
    "\n",
    "    :param nivel: Nível do alerta\n",
    "    :param base: Base onde ocorreu a falha\n",
    "    :param etapa: Etapa onde ocorreu a falha\n",
    "\n",
    "    :type nivel: int\n",
    "    :type base: str\n",
    "    :type etapa: str\n",
    "    \"\"\"\n",
    "\n",
    "    niveis = {1:\"Baixo\",\n",
    "          2: \"Médio\",\n",
    "          3: \"Alto\"}\n",
    "\n",
    "    if nivel not in niveis:\n",
    "        raise ValueError(f\"Nível inválido. Deve ser 1, 2 ou 3\")\n",
    "\n",
    "\n",
    "    return notification.notify(title=f\"ATENÇÃO: Alerta {niveis[nivel]}\",\n",
    "                               message=f\"Falha no carregamento da base {base} na etapa {etapa}\\n{datetime.now()}\")\n",
    "\n",
    "def get_req(url, base=\"base\"):\n",
    "    \"\"\"\n",
    "    Retorna o JSON de uma requisição a uma API. Em caso de resposta diferente de 200, retorna um alerta.\n",
    "\n",
    "    :param url: URL da API\n",
    "    :param base: Nome da base que será criada\n",
    "\n",
    "    :type url: str\n",
    "    :type base: str\n",
    "    \"\"\"\n",
    "    # Trata respostas diferentes da esperada (200)\n",
    "    req = requests.get(url)\n",
    "    if req.status_code != 200:\n",
    "        return alerta(1, base, \"Extração\")\n",
    "    \n",
    "    else:\n",
    "        return req.json()\n",
    "\n"
   ]
  },
  {
   "cell_type": "markdown",
   "metadata": {},
   "source": [
    "## 01. Premissas para extração\n",
    "Para esta atividade, utilizaremos a API REST Countries\n",
    "\n",
    "Vamos extrair 3 tabelas a partir da requisição"
   ]
  },
  {
   "cell_type": "code",
   "execution_count": 104,
   "metadata": {},
   "outputs": [],
   "source": [
    "# Definimos \n",
    "url = \"https://restcountries.com/v3.1/all\"\n",
    "req = get_req(url)"
   ]
  },
  {
   "cell_type": "code",
   "execution_count": 105,
   "metadata": {},
   "outputs": [
    {
     "name": "stdout",
     "output_type": "stream",
     "text": [
      "Entradas na tabela: 250\n",
      "Dados disponíveis: ['name', 'tld', 'cca2', 'ccn3', 'cca3', 'cioc', 'independent', 'status', 'unMember', 'currencies', 'idd', 'capital', 'altSpellings', 'region', 'subregion', 'languages', 'translations', 'latlng', 'landlocked', 'area', 'demonyms', 'flag', 'maps', 'population', 'gini', 'fifa', 'car', 'timezones', 'continents', 'flags', 'coatOfArms', 'startOfWeek', 'capitalInfo', 'postalCode']\n"
     ]
    }
   ],
   "source": [
    "print(f\"Entradas na tabela: {len(req)}\")\n",
    "\n",
    "dados_disponiveis = list(req[0].keys())\n",
    "print(f\"Dados disponíveis: {dados_disponiveis}\")\n",
    "\n"
   ]
  },
  {
   "cell_type": "markdown",
   "metadata": {},
   "source": [
    "## 02. Extração das tabelas "
   ]
  },
  {
   "cell_type": "markdown",
   "metadata": {},
   "source": [
    "### 02.01 - Tabela I\n",
    "Países, regiões e subregiões"
   ]
  },
  {
   "cell_type": "code",
   "execution_count": 106,
   "metadata": {},
   "outputs": [
    {
     "data": {
      "text/html": [
       "<div>\n",
       "<style scoped>\n",
       "    .dataframe tbody tr th:only-of-type {\n",
       "        vertical-align: middle;\n",
       "    }\n",
       "\n",
       "    .dataframe tbody tr th {\n",
       "        vertical-align: top;\n",
       "    }\n",
       "\n",
       "    .dataframe thead th {\n",
       "        text-align: right;\n",
       "    }\n",
       "</style>\n",
       "<table border=\"1\" class=\"dataframe\">\n",
       "  <thead>\n",
       "    <tr style=\"text-align: right;\">\n",
       "      <th></th>\n",
       "      <th>country_id</th>\n",
       "      <th>name</th>\n",
       "      <th>region</th>\n",
       "      <th>subregion</th>\n",
       "    </tr>\n",
       "  </thead>\n",
       "  <tbody>\n",
       "    <tr>\n",
       "      <th>240</th>\n",
       "      <td>240</td>\n",
       "      <td>Rwanda</td>\n",
       "      <td>Africa</td>\n",
       "      <td>Eastern Africa</td>\n",
       "    </tr>\n",
       "    <tr>\n",
       "      <th>241</th>\n",
       "      <td>241</td>\n",
       "      <td>North Macedonia</td>\n",
       "      <td>Europe</td>\n",
       "      <td>Southeast Europe</td>\n",
       "    </tr>\n",
       "    <tr>\n",
       "      <th>242</th>\n",
       "      <td>242</td>\n",
       "      <td>Kosovo</td>\n",
       "      <td>Europe</td>\n",
       "      <td>Southeast Europe</td>\n",
       "    </tr>\n",
       "    <tr>\n",
       "      <th>243</th>\n",
       "      <td>243</td>\n",
       "      <td>Netherlands</td>\n",
       "      <td>Europe</td>\n",
       "      <td>Western Europe</td>\n",
       "    </tr>\n",
       "    <tr>\n",
       "      <th>244</th>\n",
       "      <td>244</td>\n",
       "      <td>Tunisia</td>\n",
       "      <td>Africa</td>\n",
       "      <td>Northern Africa</td>\n",
       "    </tr>\n",
       "    <tr>\n",
       "      <th>245</th>\n",
       "      <td>245</td>\n",
       "      <td>South Sudan</td>\n",
       "      <td>Africa</td>\n",
       "      <td>Middle Africa</td>\n",
       "    </tr>\n",
       "    <tr>\n",
       "      <th>246</th>\n",
       "      <td>246</td>\n",
       "      <td>Honduras</td>\n",
       "      <td>Americas</td>\n",
       "      <td>Central America</td>\n",
       "    </tr>\n",
       "    <tr>\n",
       "      <th>247</th>\n",
       "      <td>247</td>\n",
       "      <td>Saint Vincent and the Grenadines</td>\n",
       "      <td>Americas</td>\n",
       "      <td>Caribbean</td>\n",
       "    </tr>\n",
       "    <tr>\n",
       "      <th>248</th>\n",
       "      <td>248</td>\n",
       "      <td>Sri Lanka</td>\n",
       "      <td>Asia</td>\n",
       "      <td>Southern Asia</td>\n",
       "    </tr>\n",
       "    <tr>\n",
       "      <th>249</th>\n",
       "      <td>249</td>\n",
       "      <td>Hong Kong</td>\n",
       "      <td>Asia</td>\n",
       "      <td>Eastern Asia</td>\n",
       "    </tr>\n",
       "  </tbody>\n",
       "</table>\n",
       "</div>"
      ],
      "text/plain": [
       "     country_id                              name    region         subregion\n",
       "240         240                            Rwanda    Africa    Eastern Africa\n",
       "241         241                   North Macedonia    Europe  Southeast Europe\n",
       "242         242                            Kosovo    Europe  Southeast Europe\n",
       "243         243                       Netherlands    Europe    Western Europe\n",
       "244         244                           Tunisia    Africa   Northern Africa\n",
       "245         245                       South Sudan    Africa     Middle Africa\n",
       "246         246                          Honduras  Americas   Central America\n",
       "247         247  Saint Vincent and the Grenadines  Americas         Caribbean\n",
       "248         248                         Sri Lanka      Asia     Southern Asia\n",
       "249         249                         Hong Kong      Asia      Eastern Asia"
      ]
     },
     "metadata": {},
     "output_type": "display_data"
    },
    {
     "data": {
      "text/plain": [
       "<AxesSubplot:xlabel='region', ylabel='Count'>"
      ]
     },
     "execution_count": 106,
     "metadata": {},
     "output_type": "execute_result"
    },
    {
     "data": {
      "image/png": "[encoded data removed]",
      "text/plain": [
       "<Figure size 432x288 with 1 Axes>"
      ]
     },
     "metadata": {
      "needs_background": "light"
     },
     "output_type": "display_data"
    }
   ],
   "source": [
    "# Considerar escrever uma função que já trate casos de missing values?\n",
    "# Utilizaremos um country_id único para juntarmos as tabelas posteriormente\n",
    "\n",
    "country_id = [i for i in range(len(req))]\n",
    "t1_names = [i[\"name\"][\"common\"] for i in req]\n",
    "t1_regions = [i[\"region\"] for i in req]\n",
    "# Tratamos o caso de não existir a chave \"subregion\" no JSON da requisição\n",
    "t1_subregions = [i[\"subregion\"] if \"subregion\" in i else np.nan for i in req]\n",
    "\n",
    "df = pd.DataFrame({\"country_id\": country_id,\n",
    "                   \"name\": t1_names,\n",
    "                   \"region\": t1_regions,\n",
    "                   \"subregion\": t1_subregions})\n",
    "\n",
    "display(df.tail(10))\n",
    "sns.histplot(df[\"region\"])"
   ]
  },
  {
   "cell_type": "markdown",
   "metadata": {},
   "source": [
    "### 02.02 - Tabela II\n",
    "Nomes oficiais, extensões e população"
   ]
  },
  {
   "cell_type": "code",
   "execution_count": 107,
   "metadata": {},
   "outputs": [
    {
     "data": {
      "text/html": [
       "<div>\n",
       "<style scoped>\n",
       "    .dataframe tbody tr th:only-of-type {\n",
       "        vertical-align: middle;\n",
       "    }\n",
       "\n",
       "    .dataframe tbody tr th {\n",
       "        vertical-align: top;\n",
       "    }\n",
       "\n",
       "    .dataframe thead th {\n",
       "        text-align: right;\n",
       "    }\n",
       "</style>\n",
       "<table border=\"1\" class=\"dataframe\">\n",
       "  <thead>\n",
       "    <tr style=\"text-align: right;\">\n",
       "      <th></th>\n",
       "      <th>country_id</th>\n",
       "      <th>name_official</th>\n",
       "      <th>extension</th>\n",
       "      <th>population</th>\n",
       "    </tr>\n",
       "  </thead>\n",
       "  <tbody>\n",
       "    <tr>\n",
       "      <th>69</th>\n",
       "      <td>69</td>\n",
       "      <td>People's Republic of China</td>\n",
       "      <td>9706961.0</td>\n",
       "      <td>1402112000</td>\n",
       "    </tr>\n",
       "    <tr>\n",
       "      <th>219</th>\n",
       "      <td>219</td>\n",
       "      <td>Republic of India</td>\n",
       "      <td>3287590.0</td>\n",
       "      <td>1380004385</td>\n",
       "    </tr>\n",
       "    <tr>\n",
       "      <th>88</th>\n",
       "      <td>88</td>\n",
       "      <td>United States of America</td>\n",
       "      <td>9372610.0</td>\n",
       "      <td>329484123</td>\n",
       "    </tr>\n",
       "    <tr>\n",
       "      <th>238</th>\n",
       "      <td>238</td>\n",
       "      <td>Republic of Indonesia</td>\n",
       "      <td>1904569.0</td>\n",
       "      <td>273523621</td>\n",
       "    </tr>\n",
       "    <tr>\n",
       "      <th>58</th>\n",
       "      <td>58</td>\n",
       "      <td>Islamic Republic of Pakistan</td>\n",
       "      <td>881912.0</td>\n",
       "      <td>220892331</td>\n",
       "    </tr>\n",
       "    <tr>\n",
       "      <th>147</th>\n",
       "      <td>147</td>\n",
       "      <td>Federative Republic of Brazil</td>\n",
       "      <td>8515767.0</td>\n",
       "      <td>212559409</td>\n",
       "    </tr>\n",
       "    <tr>\n",
       "      <th>212</th>\n",
       "      <td>212</td>\n",
       "      <td>Federal Republic of Nigeria</td>\n",
       "      <td>923768.0</td>\n",
       "      <td>206139587</td>\n",
       "    </tr>\n",
       "    <tr>\n",
       "      <th>66</th>\n",
       "      <td>66</td>\n",
       "      <td>People's Republic of Bangladesh</td>\n",
       "      <td>147570.0</td>\n",
       "      <td>164689383</td>\n",
       "    </tr>\n",
       "    <tr>\n",
       "      <th>124</th>\n",
       "      <td>124</td>\n",
       "      <td>Russian Federation</td>\n",
       "      <td>17098242.0</td>\n",
       "      <td>144104080</td>\n",
       "    </tr>\n",
       "    <tr>\n",
       "      <th>119</th>\n",
       "      <td>119</td>\n",
       "      <td>United Mexican States</td>\n",
       "      <td>1964375.0</td>\n",
       "      <td>128932753</td>\n",
       "    </tr>\n",
       "  </tbody>\n",
       "</table>\n",
       "</div>"
      ],
      "text/plain": [
       "     country_id                    name_official   extension  population\n",
       "69           69       People's Republic of China   9706961.0  1402112000\n",
       "219         219                Republic of India   3287590.0  1380004385\n",
       "88           88         United States of America   9372610.0   329484123\n",
       "238         238            Republic of Indonesia   1904569.0   273523621\n",
       "58           58     Islamic Republic of Pakistan    881912.0   220892331\n",
       "147         147    Federative Republic of Brazil   8515767.0   212559409\n",
       "212         212      Federal Republic of Nigeria    923768.0   206139587\n",
       "66           66  People's Republic of Bangladesh    147570.0   164689383\n",
       "124         124               Russian Federation  17098242.0   144104080\n",
       "119         119            United Mexican States   1964375.0   128932753"
      ]
     },
     "execution_count": 107,
     "metadata": {},
     "output_type": "execute_result"
    }
   ],
   "source": [
    "# Definindo as colunas\n",
    "\n",
    "t2_names = [i[\"name\"][\"official\"] for i in req]\n",
    "t2_extensions = [i[\"area\"] for i in req]\n",
    "t2_population = [i[\"population\"] for i in req]\n",
    "\n",
    "# Criando o dicionário que dará origem ao DataFrame\n",
    "\n",
    "dict_t2 = {\"country_id\": country_id,\n",
    "           \"name_official\": t2_names,\n",
    "           \"extension\": t2_extensions,\n",
    "           \"population\": t2_population}\n",
    "\n",
    "df2 = pd.DataFrame(dict_t2)\n",
    "df2.sort_values(\"population\", ascending=False).head(10)\n"
   ]
  },
  {
   "cell_type": "markdown",
   "metadata": {},
   "source": [
    "### 02.03 - Tabela III\n",
    "Nomes e moedas"
   ]
  },
  {
   "cell_type": "code",
   "execution_count": 108,
   "metadata": {},
   "outputs": [
    {
     "data": {
      "text/html": [
       "<div>\n",
       "<style scoped>\n",
       "    .dataframe tbody tr th:only-of-type {\n",
       "        vertical-align: middle;\n",
       "    }\n",
       "\n",
       "    .dataframe tbody tr th {\n",
       "        vertical-align: top;\n",
       "    }\n",
       "\n",
       "    .dataframe thead th {\n",
       "        text-align: right;\n",
       "    }\n",
       "</style>\n",
       "<table border=\"1\" class=\"dataframe\">\n",
       "  <thead>\n",
       "    <tr style=\"text-align: right;\">\n",
       "      <th></th>\n",
       "      <th>country_id</th>\n",
       "      <th>name</th>\n",
       "      <th>currencies</th>\n",
       "    </tr>\n",
       "  </thead>\n",
       "  <tbody>\n",
       "    <tr>\n",
       "      <th>240</th>\n",
       "      <td>240</td>\n",
       "      <td>Rwanda</td>\n",
       "      <td>[RWF]</td>\n",
       "    </tr>\n",
       "    <tr>\n",
       "      <th>241</th>\n",
       "      <td>241</td>\n",
       "      <td>North Macedonia</td>\n",
       "      <td>[MKD]</td>\n",
       "    </tr>\n",
       "    <tr>\n",
       "      <th>242</th>\n",
       "      <td>242</td>\n",
       "      <td>Kosovo</td>\n",
       "      <td>[EUR]</td>\n",
       "    </tr>\n",
       "    <tr>\n",
       "      <th>243</th>\n",
       "      <td>243</td>\n",
       "      <td>Netherlands</td>\n",
       "      <td>[EUR]</td>\n",
       "    </tr>\n",
       "    <tr>\n",
       "      <th>244</th>\n",
       "      <td>244</td>\n",
       "      <td>Tunisia</td>\n",
       "      <td>[TND]</td>\n",
       "    </tr>\n",
       "    <tr>\n",
       "      <th>245</th>\n",
       "      <td>245</td>\n",
       "      <td>South Sudan</td>\n",
       "      <td>[SSP]</td>\n",
       "    </tr>\n",
       "    <tr>\n",
       "      <th>246</th>\n",
       "      <td>246</td>\n",
       "      <td>Honduras</td>\n",
       "      <td>[HNL]</td>\n",
       "    </tr>\n",
       "    <tr>\n",
       "      <th>247</th>\n",
       "      <td>247</td>\n",
       "      <td>Saint Vincent and the Grenadines</td>\n",
       "      <td>[XCD]</td>\n",
       "    </tr>\n",
       "    <tr>\n",
       "      <th>248</th>\n",
       "      <td>248</td>\n",
       "      <td>Sri Lanka</td>\n",
       "      <td>[LKR]</td>\n",
       "    </tr>\n",
       "    <tr>\n",
       "      <th>249</th>\n",
       "      <td>249</td>\n",
       "      <td>Hong Kong</td>\n",
       "      <td>[HKD]</td>\n",
       "    </tr>\n",
       "  </tbody>\n",
       "</table>\n",
       "</div>"
      ],
      "text/plain": [
       "     country_id                              name currencies\n",
       "240         240                            Rwanda      [RWF]\n",
       "241         241                   North Macedonia      [MKD]\n",
       "242         242                            Kosovo      [EUR]\n",
       "243         243                       Netherlands      [EUR]\n",
       "244         244                           Tunisia      [TND]\n",
       "245         245                       South Sudan      [SSP]\n",
       "246         246                          Honduras      [HNL]\n",
       "247         247  Saint Vincent and the Grenadines      [XCD]\n",
       "248         248                         Sri Lanka      [LKR]\n",
       "249         249                         Hong Kong      [HKD]"
      ]
     },
     "execution_count": 108,
     "metadata": {},
     "output_type": "execute_result"
    }
   ],
   "source": [
    "# Definindo as colunas\n",
    "\n",
    "t3_names = [i[\"name\"][\"common\"] for i in req]\n",
    "t3_currencies = [i[\"currencies\"] if \"currencies\" in i else np.nan for i in req]\n",
    "t3_currency_acro = [list(i[\"currencies\"].keys()) if \"currencies\" in i else np.nan for i in req]\n",
    "\n",
    "# Criando o dicionário que dará origem ao DataFrame\n",
    "\n",
    "t3_dict = {\"country_id\": country_id,\n",
    "           \"name\": t3_names,\n",
    "           \"currencies\": t3_currency_acro\n",
    "           }\n",
    "\n",
    "df3 = pd.DataFrame(t3_dict)\n",
    "df3.tail(10)"
   ]
  },
  {
   "cell_type": "markdown",
   "metadata": {},
   "source": [
    "## 03 - Tratamento das tabelas"
   ]
  },
  {
   "cell_type": "markdown",
   "metadata": {},
   "source": [
    "## 03.01 - Tabela 01"
   ]
  },
  {
   "cell_type": "markdown",
   "metadata": {},
   "source": [
    "Passo 1: entendendo a tabela"
   ]
  },
  {
   "cell_type": "code",
   "execution_count": 109,
   "metadata": {},
   "outputs": [
    {
     "data": {
      "text/html": [
       "<div>\n",
       "<style scoped>\n",
       "    .dataframe tbody tr th:only-of-type {\n",
       "        vertical-align: middle;\n",
       "    }\n",
       "\n",
       "    .dataframe tbody tr th {\n",
       "        vertical-align: top;\n",
       "    }\n",
       "\n",
       "    .dataframe thead th {\n",
       "        text-align: right;\n",
       "    }\n",
       "</style>\n",
       "<table border=\"1\" class=\"dataframe\">\n",
       "  <thead>\n",
       "    <tr style=\"text-align: right;\">\n",
       "      <th></th>\n",
       "      <th>country_id</th>\n",
       "      <th>name</th>\n",
       "      <th>region</th>\n",
       "      <th>subregion</th>\n",
       "    </tr>\n",
       "  </thead>\n",
       "  <tbody>\n",
       "    <tr>\n",
       "      <th>245</th>\n",
       "      <td>245</td>\n",
       "      <td>South Sudan</td>\n",
       "      <td>Africa</td>\n",
       "      <td>Middle Africa</td>\n",
       "    </tr>\n",
       "    <tr>\n",
       "      <th>246</th>\n",
       "      <td>246</td>\n",
       "      <td>Honduras</td>\n",
       "      <td>Americas</td>\n",
       "      <td>Central America</td>\n",
       "    </tr>\n",
       "    <tr>\n",
       "      <th>247</th>\n",
       "      <td>247</td>\n",
       "      <td>Saint Vincent and the Grenadines</td>\n",
       "      <td>Americas</td>\n",
       "      <td>Caribbean</td>\n",
       "    </tr>\n",
       "    <tr>\n",
       "      <th>248</th>\n",
       "      <td>248</td>\n",
       "      <td>Sri Lanka</td>\n",
       "      <td>Asia</td>\n",
       "      <td>Southern Asia</td>\n",
       "    </tr>\n",
       "    <tr>\n",
       "      <th>249</th>\n",
       "      <td>249</td>\n",
       "      <td>Hong Kong</td>\n",
       "      <td>Asia</td>\n",
       "      <td>Eastern Asia</td>\n",
       "    </tr>\n",
       "  </tbody>\n",
       "</table>\n",
       "</div>"
      ],
      "text/plain": [
       "     country_id                              name    region        subregion\n",
       "245         245                       South Sudan    Africa    Middle Africa\n",
       "246         246                          Honduras  Americas  Central America\n",
       "247         247  Saint Vincent and the Grenadines  Americas        Caribbean\n",
       "248         248                         Sri Lanka      Asia    Southern Asia\n",
       "249         249                         Hong Kong      Asia     Eastern Asia"
      ]
     },
     "metadata": {},
     "output_type": "display_data"
    },
    {
     "name": "stdout",
     "output_type": "stream",
     "text": [
      "<class 'pandas.core.frame.DataFrame'>\n",
      "RangeIndex: 250 entries, 0 to 249\n",
      "Data columns (total 4 columns):\n",
      " #   Column      Non-Null Count  Dtype \n",
      "---  ------      --------------  ----- \n",
      " 0   country_id  250 non-null    int64 \n",
      " 1   name        250 non-null    object\n",
      " 2   region      250 non-null    object\n",
      " 3   subregion   245 non-null    object\n",
      "dtypes: int64(1), object(3)\n",
      "memory usage: 4.9+ KB\n"
     ]
    },
    {
     "data": {
      "text/plain": [
       "None"
      ]
     },
     "metadata": {},
     "output_type": "display_data"
    }
   ],
   "source": [
    "display(df.tail())\n",
    "display(df.info())"
   ]
  },
  {
   "cell_type": "markdown",
   "metadata": {},
   "source": [
    "Vemos que não há muita margem para tratamento nesta tabela específica, então apenas renomearemos as colunas"
   ]
  },
  {
   "cell_type": "code",
   "execution_count": 110,
   "metadata": {},
   "outputs": [],
   "source": [
    "df_cols_renamed = {\"name\":\"Common Name\", \"region\":\"Region\", \"subregion\":\"Subregion\"}\n",
    "\n",
    "df = df.rename(columns=df_cols_renamed)"
   ]
  },
  {
   "cell_type": "code",
   "execution_count": 111,
   "metadata": {},
   "outputs": [
    {
     "data": {
      "text/html": [
       "<div>\n",
       "<style scoped>\n",
       "    .dataframe tbody tr th:only-of-type {\n",
       "        vertical-align: middle;\n",
       "    }\n",
       "\n",
       "    .dataframe tbody tr th {\n",
       "        vertical-align: top;\n",
       "    }\n",
       "\n",
       "    .dataframe thead th {\n",
       "        text-align: right;\n",
       "    }\n",
       "</style>\n",
       "<table border=\"1\" class=\"dataframe\">\n",
       "  <thead>\n",
       "    <tr style=\"text-align: right;\">\n",
       "      <th></th>\n",
       "      <th>country_id</th>\n",
       "      <th>Common Name</th>\n",
       "      <th>Region</th>\n",
       "      <th>Subregion</th>\n",
       "    </tr>\n",
       "  </thead>\n",
       "  <tbody>\n",
       "    <tr>\n",
       "      <th>245</th>\n",
       "      <td>245</td>\n",
       "      <td>South Sudan</td>\n",
       "      <td>Africa</td>\n",
       "      <td>Middle Africa</td>\n",
       "    </tr>\n",
       "    <tr>\n",
       "      <th>246</th>\n",
       "      <td>246</td>\n",
       "      <td>Honduras</td>\n",
       "      <td>Americas</td>\n",
       "      <td>Central America</td>\n",
       "    </tr>\n",
       "    <tr>\n",
       "      <th>247</th>\n",
       "      <td>247</td>\n",
       "      <td>Saint Vincent and the Grenadines</td>\n",
       "      <td>Americas</td>\n",
       "      <td>Caribbean</td>\n",
       "    </tr>\n",
       "    <tr>\n",
       "      <th>248</th>\n",
       "      <td>248</td>\n",
       "      <td>Sri Lanka</td>\n",
       "      <td>Asia</td>\n",
       "      <td>Southern Asia</td>\n",
       "    </tr>\n",
       "    <tr>\n",
       "      <th>249</th>\n",
       "      <td>249</td>\n",
       "      <td>Hong Kong</td>\n",
       "      <td>Asia</td>\n",
       "      <td>Eastern Asia</td>\n",
       "    </tr>\n",
       "  </tbody>\n",
       "</table>\n",
       "</div>"
      ],
      "text/plain": [
       "     country_id                       Common Name    Region        Subregion\n",
       "245         245                       South Sudan    Africa    Middle Africa\n",
       "246         246                          Honduras  Americas  Central America\n",
       "247         247  Saint Vincent and the Grenadines  Americas        Caribbean\n",
       "248         248                         Sri Lanka      Asia    Southern Asia\n",
       "249         249                         Hong Kong      Asia     Eastern Asia"
      ]
     },
     "execution_count": 111,
     "metadata": {},
     "output_type": "execute_result"
    }
   ],
   "source": [
    "df.tail()"
   ]
  },
  {
   "cell_type": "markdown",
   "metadata": {},
   "source": [
    "### 03.02 - Tabela 02"
   ]
  },
  {
   "cell_type": "markdown",
   "metadata": {},
   "source": [
    "Passo 1: entendendo a tabela"
   ]
  },
  {
   "cell_type": "code",
   "execution_count": 112,
   "metadata": {},
   "outputs": [
    {
     "data": {
      "text/html": [
       "<div>\n",
       "<style scoped>\n",
       "    .dataframe tbody tr th:only-of-type {\n",
       "        vertical-align: middle;\n",
       "    }\n",
       "\n",
       "    .dataframe tbody tr th {\n",
       "        vertical-align: top;\n",
       "    }\n",
       "\n",
       "    .dataframe thead th {\n",
       "        text-align: right;\n",
       "    }\n",
       "</style>\n",
       "<table border=\"1\" class=\"dataframe\">\n",
       "  <thead>\n",
       "    <tr style=\"text-align: right;\">\n",
       "      <th></th>\n",
       "      <th>country_id</th>\n",
       "      <th>name_official</th>\n",
       "      <th>extension</th>\n",
       "      <th>population</th>\n",
       "    </tr>\n",
       "  </thead>\n",
       "  <tbody>\n",
       "    <tr>\n",
       "      <th>245</th>\n",
       "      <td>245</td>\n",
       "      <td>Republic of South Sudan</td>\n",
       "      <td>619745.0</td>\n",
       "      <td>11193729</td>\n",
       "    </tr>\n",
       "    <tr>\n",
       "      <th>246</th>\n",
       "      <td>246</td>\n",
       "      <td>Republic of Honduras</td>\n",
       "      <td>112492.0</td>\n",
       "      <td>9904608</td>\n",
       "    </tr>\n",
       "    <tr>\n",
       "      <th>247</th>\n",
       "      <td>247</td>\n",
       "      <td>Saint Vincent and the Grenadines</td>\n",
       "      <td>389.0</td>\n",
       "      <td>110947</td>\n",
       "    </tr>\n",
       "    <tr>\n",
       "      <th>248</th>\n",
       "      <td>248</td>\n",
       "      <td>Democratic Socialist Republic of Sri Lanka</td>\n",
       "      <td>65610.0</td>\n",
       "      <td>21919000</td>\n",
       "    </tr>\n",
       "    <tr>\n",
       "      <th>249</th>\n",
       "      <td>249</td>\n",
       "      <td>Hong Kong Special Administrative Region of the...</td>\n",
       "      <td>1104.0</td>\n",
       "      <td>7500700</td>\n",
       "    </tr>\n",
       "  </tbody>\n",
       "</table>\n",
       "</div>"
      ],
      "text/plain": [
       "     country_id                                      name_official  extension  \\\n",
       "245         245                            Republic of South Sudan   619745.0   \n",
       "246         246                               Republic of Honduras   112492.0   \n",
       "247         247                   Saint Vincent and the Grenadines      389.0   \n",
       "248         248         Democratic Socialist Republic of Sri Lanka    65610.0   \n",
       "249         249  Hong Kong Special Administrative Region of the...     1104.0   \n",
       "\n",
       "     population  \n",
       "245    11193729  \n",
       "246     9904608  \n",
       "247      110947  \n",
       "248    21919000  \n",
       "249     7500700  "
      ]
     },
     "metadata": {},
     "output_type": "display_data"
    },
    {
     "name": "stdout",
     "output_type": "stream",
     "text": [
      "<class 'pandas.core.frame.DataFrame'>\n",
      "RangeIndex: 250 entries, 0 to 249\n",
      "Data columns (total 4 columns):\n",
      " #   Column         Non-Null Count  Dtype  \n",
      "---  ------         --------------  -----  \n",
      " 0   country_id     250 non-null    int64  \n",
      " 1   name_official  250 non-null    object \n",
      " 2   extension      250 non-null    float64\n",
      " 3   population     250 non-null    int64  \n",
      "dtypes: float64(1), int64(2), object(1)\n",
      "memory usage: 6.9+ KB\n"
     ]
    },
    {
     "data": {
      "text/plain": [
       "None"
      ]
     },
     "metadata": {},
     "output_type": "display_data"
    }
   ],
   "source": [
    "display(df2.tail())\n",
    "display(df2.info())"
   ]
  },
  {
   "cell_type": "markdown",
   "metadata": {},
   "source": [
    "Conclusão: esta tabela também está de acordo com o que esperamos, inclusive os formatos dos dados. Renomearemos apenas as colunas, novamente."
   ]
  },
  {
   "cell_type": "code",
   "execution_count": 113,
   "metadata": {},
   "outputs": [
    {
     "data": {
      "text/html": [
       "<div>\n",
       "<style scoped>\n",
       "    .dataframe tbody tr th:only-of-type {\n",
       "        vertical-align: middle;\n",
       "    }\n",
       "\n",
       "    .dataframe tbody tr th {\n",
       "        vertical-align: top;\n",
       "    }\n",
       "\n",
       "    .dataframe thead th {\n",
       "        text-align: right;\n",
       "    }\n",
       "</style>\n",
       "<table border=\"1\" class=\"dataframe\">\n",
       "  <thead>\n",
       "    <tr style=\"text-align: right;\">\n",
       "      <th></th>\n",
       "      <th>country_id</th>\n",
       "      <th>Official Name</th>\n",
       "      <th>Extension (sqkm)</th>\n",
       "      <th>Population</th>\n",
       "    </tr>\n",
       "  </thead>\n",
       "  <tbody>\n",
       "    <tr>\n",
       "      <th>245</th>\n",
       "      <td>245</td>\n",
       "      <td>Republic of South Sudan</td>\n",
       "      <td>619745.0</td>\n",
       "      <td>11193729</td>\n",
       "    </tr>\n",
       "    <tr>\n",
       "      <th>246</th>\n",
       "      <td>246</td>\n",
       "      <td>Republic of Honduras</td>\n",
       "      <td>112492.0</td>\n",
       "      <td>9904608</td>\n",
       "    </tr>\n",
       "    <tr>\n",
       "      <th>247</th>\n",
       "      <td>247</td>\n",
       "      <td>Saint Vincent and the Grenadines</td>\n",
       "      <td>389.0</td>\n",
       "      <td>110947</td>\n",
       "    </tr>\n",
       "    <tr>\n",
       "      <th>248</th>\n",
       "      <td>248</td>\n",
       "      <td>Democratic Socialist Republic of Sri Lanka</td>\n",
       "      <td>65610.0</td>\n",
       "      <td>21919000</td>\n",
       "    </tr>\n",
       "    <tr>\n",
       "      <th>249</th>\n",
       "      <td>249</td>\n",
       "      <td>Hong Kong Special Administrative Region of the...</td>\n",
       "      <td>1104.0</td>\n",
       "      <td>7500700</td>\n",
       "    </tr>\n",
       "  </tbody>\n",
       "</table>\n",
       "</div>"
      ],
      "text/plain": [
       "     country_id                                      Official Name  \\\n",
       "245         245                            Republic of South Sudan   \n",
       "246         246                               Republic of Honduras   \n",
       "247         247                   Saint Vincent and the Grenadines   \n",
       "248         248         Democratic Socialist Republic of Sri Lanka   \n",
       "249         249  Hong Kong Special Administrative Region of the...   \n",
       "\n",
       "     Extension (sqkm)  Population  \n",
       "245          619745.0    11193729  \n",
       "246          112492.0     9904608  \n",
       "247             389.0      110947  \n",
       "248           65610.0    21919000  \n",
       "249            1104.0     7500700  "
      ]
     },
     "execution_count": 113,
     "metadata": {},
     "output_type": "execute_result"
    }
   ],
   "source": [
    "df2_cols_renamed = {\"name_official\":\"Official Name\", \"extension\":\"Extension (sqkm)\", \"population\":\"Population\"}\n",
    "df2 = df2.rename(columns=df2_cols_renamed)\n",
    "df2.tail()"
   ]
  },
  {
   "cell_type": "markdown",
   "metadata": {},
   "source": [
    "### 03.03 - Tabela 03"
   ]
  },
  {
   "cell_type": "markdown",
   "metadata": {},
   "source": [
    "Passo 1: entendendo a tabela"
   ]
  },
  {
   "cell_type": "code",
   "execution_count": 114,
   "metadata": {},
   "outputs": [
    {
     "data": {
      "text/html": [
       "<div>\n",
       "<style scoped>\n",
       "    .dataframe tbody tr th:only-of-type {\n",
       "        vertical-align: middle;\n",
       "    }\n",
       "\n",
       "    .dataframe tbody tr th {\n",
       "        vertical-align: top;\n",
       "    }\n",
       "\n",
       "    .dataframe thead th {\n",
       "        text-align: right;\n",
       "    }\n",
       "</style>\n",
       "<table border=\"1\" class=\"dataframe\">\n",
       "  <thead>\n",
       "    <tr style=\"text-align: right;\">\n",
       "      <th></th>\n",
       "      <th>country_id</th>\n",
       "      <th>name</th>\n",
       "      <th>currencies</th>\n",
       "    </tr>\n",
       "  </thead>\n",
       "  <tbody>\n",
       "    <tr>\n",
       "      <th>245</th>\n",
       "      <td>245</td>\n",
       "      <td>South Sudan</td>\n",
       "      <td>[SSP]</td>\n",
       "    </tr>\n",
       "    <tr>\n",
       "      <th>246</th>\n",
       "      <td>246</td>\n",
       "      <td>Honduras</td>\n",
       "      <td>[HNL]</td>\n",
       "    </tr>\n",
       "    <tr>\n",
       "      <th>247</th>\n",
       "      <td>247</td>\n",
       "      <td>Saint Vincent and the Grenadines</td>\n",
       "      <td>[XCD]</td>\n",
       "    </tr>\n",
       "    <tr>\n",
       "      <th>248</th>\n",
       "      <td>248</td>\n",
       "      <td>Sri Lanka</td>\n",
       "      <td>[LKR]</td>\n",
       "    </tr>\n",
       "    <tr>\n",
       "      <th>249</th>\n",
       "      <td>249</td>\n",
       "      <td>Hong Kong</td>\n",
       "      <td>[HKD]</td>\n",
       "    </tr>\n",
       "  </tbody>\n",
       "</table>\n",
       "</div>"
      ],
      "text/plain": [
       "     country_id                              name currencies\n",
       "245         245                       South Sudan      [SSP]\n",
       "246         246                          Honduras      [HNL]\n",
       "247         247  Saint Vincent and the Grenadines      [XCD]\n",
       "248         248                         Sri Lanka      [LKR]\n",
       "249         249                         Hong Kong      [HKD]"
      ]
     },
     "metadata": {},
     "output_type": "display_data"
    },
    {
     "name": "stdout",
     "output_type": "stream",
     "text": [
      "<class 'pandas.core.frame.DataFrame'>\n",
      "RangeIndex: 250 entries, 0 to 249\n",
      "Data columns (total 3 columns):\n",
      " #   Column      Non-Null Count  Dtype \n",
      "---  ------      --------------  ----- \n",
      " 0   country_id  250 non-null    int64 \n",
      " 1   name        250 non-null    object\n",
      " 2   currencies  247 non-null    object\n",
      "dtypes: int64(1), object(2)\n",
      "memory usage: 4.0+ KB\n"
     ]
    },
    {
     "data": {
      "text/plain": [
       "None"
      ]
     },
     "metadata": {},
     "output_type": "display_data"
    }
   ],
   "source": [
    "display(df3.tail())\n",
    "display(df3.info())"
   ]
  },
  {
   "cell_type": "markdown",
   "metadata": {},
   "source": [
    "Nesta tabela, identificamos 2 possibilidades de tratamento:\n",
    "- Há missing values na coluna \"currencies\"\n",
    "- Os valores na coluna \"currencies\" estão em formato de lista\n",
    "\n",
    "Proporemos as seguintes mudanças:\n",
    "- utilizarmos um valor \"N/A\" (not applicable)\n",
    "- utilizaremos a função explode para separarmos os valores das listas de moedas\n",
    "- mudaremos os nomes das colunas\n",
    "  "
   ]
  },
  {
   "cell_type": "code",
   "execution_count": 115,
   "metadata": {},
   "outputs": [
    {
     "data": {
      "text/html": [
       "<div>\n",
       "<style scoped>\n",
       "    .dataframe tbody tr th:only-of-type {\n",
       "        vertical-align: middle;\n",
       "    }\n",
       "\n",
       "    .dataframe tbody tr th {\n",
       "        vertical-align: top;\n",
       "    }\n",
       "\n",
       "    .dataframe thead th {\n",
       "        text-align: right;\n",
       "    }\n",
       "</style>\n",
       "<table border=\"1\" class=\"dataframe\">\n",
       "  <thead>\n",
       "    <tr style=\"text-align: right;\">\n",
       "      <th></th>\n",
       "      <th>country_id</th>\n",
       "      <th>name</th>\n",
       "      <th>currencies</th>\n",
       "    </tr>\n",
       "  </thead>\n",
       "  <tbody>\n",
       "    <tr>\n",
       "      <th>159</th>\n",
       "      <td>159</td>\n",
       "      <td>Bouvet Island</td>\n",
       "      <td>NaN</td>\n",
       "    </tr>\n",
       "    <tr>\n",
       "      <th>194</th>\n",
       "      <td>194</td>\n",
       "      <td>Antarctica</td>\n",
       "      <td>NaN</td>\n",
       "    </tr>\n",
       "    <tr>\n",
       "      <th>218</th>\n",
       "      <td>218</td>\n",
       "      <td>Heard Island and McDonald Islands</td>\n",
       "      <td>NaN</td>\n",
       "    </tr>\n",
       "  </tbody>\n",
       "</table>\n",
       "</div>"
      ],
      "text/plain": [
       "     country_id                               name currencies\n",
       "159         159                      Bouvet Island        NaN\n",
       "194         194                         Antarctica        NaN\n",
       "218         218  Heard Island and McDonald Islands        NaN"
      ]
     },
     "execution_count": 115,
     "metadata": {},
     "output_type": "execute_result"
    }
   ],
   "source": [
    "df3[df3[\"currencies\"].isna()]"
   ]
  },
  {
   "cell_type": "code",
   "execution_count": 116,
   "metadata": {},
   "outputs": [],
   "source": [
    "df3 = df3.fillna(\"N/A\")\n",
    "df3 = df3.explode(\"currencies\")\n",
    "df3_cols_renamed = {\"name\":\"Common Name\", \"currencies\":\"Currency\"}\n",
    "df3 = df3.rename(columns=df3_cols_renamed)"
   ]
  },
  {
   "cell_type": "code",
   "execution_count": 117,
   "metadata": {},
   "outputs": [
    {
     "data": {
      "text/html": [
       "<div>\n",
       "<style scoped>\n",
       "    .dataframe tbody tr th:only-of-type {\n",
       "        vertical-align: middle;\n",
       "    }\n",
       "\n",
       "    .dataframe tbody tr th {\n",
       "        vertical-align: top;\n",
       "    }\n",
       "\n",
       "    .dataframe thead th {\n",
       "        text-align: right;\n",
       "    }\n",
       "</style>\n",
       "<table border=\"1\" class=\"dataframe\">\n",
       "  <thead>\n",
       "    <tr style=\"text-align: right;\">\n",
       "      <th></th>\n",
       "      <th>country_id</th>\n",
       "      <th>Common Name</th>\n",
       "      <th>Currency</th>\n",
       "    </tr>\n",
       "  </thead>\n",
       "  <tbody>\n",
       "    <tr>\n",
       "      <th>149</th>\n",
       "      <td>149</td>\n",
       "      <td>Saint Helena, Ascension and Tristan da Cunha</td>\n",
       "      <td>GBP</td>\n",
       "    </tr>\n",
       "    <tr>\n",
       "      <th>149</th>\n",
       "      <td>149</td>\n",
       "      <td>Saint Helena, Ascension and Tristan da Cunha</td>\n",
       "      <td>SHP</td>\n",
       "    </tr>\n",
       "  </tbody>\n",
       "</table>\n",
       "</div>"
      ],
      "text/plain": [
       "     country_id                                   Common Name Currency\n",
       "149         149  Saint Helena, Ascension and Tristan da Cunha      GBP\n",
       "149         149  Saint Helena, Ascension and Tristan da Cunha      SHP"
      ]
     },
     "execution_count": 117,
     "metadata": {},
     "output_type": "execute_result"
    }
   ],
   "source": [
    "# Mostrando um exemplo de país com 2 moedas\n",
    "\n",
    "df3[df3[\"country_id\"] == 149]"
   ]
  },
  {
   "cell_type": "markdown",
   "metadata": {},
   "source": [
    "### Apêndice\n",
    "#### Ideias para o projeto:\n",
    "- Fazer a tabela 1 extrair TODOS os dados da API, a princípio classificando-os pelo country_id\n",
    "- Na tabela 3, extrair na verdade todas as moedas do mundo, com nomes, acrônimos e símbolos. Atribuir um id para cada moeda"
   ]
  }
 ],
 "metadata": {
  "kernelspec": {
   "display_name": "Python 3",
   "language": "python",
   "name": "python3"
  },
  "language_info": {
   "codemirror_mode": {
    "name": "ipython",
    "version": 3
   },
   "file_extension": ".py",
   "mimetype": "text/x-python",
   "name": "python",
   "nbconvert_exporter": "python",
   "pygments_lexer": "ipython3",
   "version": "3.7.0"
  }
 },
 "nbformat": 4,
 "nbformat_minor": 2
}
